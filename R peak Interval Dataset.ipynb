{
 "cells": [
  {
   "cell_type": "markdown",
   "metadata": {},
   "source": [
    "---\n",
    "# Install the required packages"
   ]
  },
  {
   "cell_type": "markdown",
   "metadata": {},
   "source": [
    "If needed install the following packages:"
   ]
  },
  {
   "cell_type": "code",
   "execution_count": 42,
   "metadata": {},
   "outputs": [],
   "source": [
    "# !pip install tensorflow keras"
   ]
  },
  {
   "cell_type": "markdown",
   "metadata": {},
   "source": [
    "---\n",
    "# Imports"
   ]
  },
  {
   "cell_type": "code",
   "execution_count": 117,
   "metadata": {},
   "outputs": [],
   "source": [
    "import pandas as pd\n",
    "import numpy as np\n",
    "import matplotlib.pyplot as plt\n",
    "import seaborn as sns\n",
    "import missingno as msno\n",
    "from sklearn.impute import SimpleImputer, KNNImputer\n",
    "from sklearn.preprocessing import MinMaxScaler, LabelEncoder\n",
    "from sklearn.metrics import mean_squared_error, r2_score, mean_absolute_error\n",
    "import tensorflow as tf\n",
    "from tensorflow.keras.models import Sequential\n",
    "from tensorflow.keras.layers import Dense, Conv1D, Flatten, MaxPooling1D, Dropout, Input\n",
    "from tensorflow.keras.layers import LSTM"
   ]
  },
  {
   "cell_type": "markdown",
   "metadata": {},
   "source": [
    "---\n",
    "# Laboratory Exercise - Run Mode (8 points)"
   ]
  },
  {
   "cell_type": "markdown",
   "metadata": {},
   "source": [
    "## Introduction\n",
    "In this laboratory assignment, the focus is on time series forecasting, specifically targeting the prediction of **R peak interval** for a patient. Your task involves employing deep learning methods to forecast the **required measurements**. To accomplish this you will be using a patient's ECG measurements from the MITDB database, which consists of the following values:\n",
    "\n",
    "- R peak Interval (int: the time the R peak appeared)\n",
    "- Beat Annotation (string: the beat type)\n",
    "- Episode Annotation (string: the episode type)\n",
    "\n",
    "**Note: You are required to perform this laboratory assignment on your local machine.**"
   ]
  },
  {
   "cell_type": "markdown",
   "metadata": {},
   "source": [
    "\n",
    "# Read the data"
   ]
  },
  {
   "cell_type": "markdown",
   "metadata": {},
   "source": [
    "You are required to load the given data from the `201_cleaned.ann` file (csv format). Load the data into a `pandas dataframe` and display the first 5 rows of the dataframe."
   ]
  },
  {
   "cell_type": "code",
   "execution_count": 32,
   "metadata": {},
   "outputs": [],
   "source": [
    "data = pd.read_csv('201_cleaned.ann')"
   ]
  },
  {
   "cell_type": "code",
   "execution_count": 6,
   "metadata": {},
   "outputs": [
    {
     "data": {
      "text/html": [
       "<div>\n",
       "<style scoped>\n",
       "    .dataframe tbody tr th:only-of-type {\n",
       "        vertical-align: middle;\n",
       "    }\n",
       "\n",
       "    .dataframe tbody tr th {\n",
       "        vertical-align: top;\n",
       "    }\n",
       "\n",
       "    .dataframe thead th {\n",
       "        text-align: right;\n",
       "    }\n",
       "</style>\n",
       "<table border=\"1\" class=\"dataframe\">\n",
       "  <thead>\n",
       "    <tr style=\"text-align: right;\">\n",
       "      <th></th>\n",
       "      <th>R peak Interval</th>\n",
       "      <th>Beat Annotation</th>\n",
       "      <th>Episode Annotation</th>\n",
       "    </tr>\n",
       "  </thead>\n",
       "  <tbody>\n",
       "    <tr>\n",
       "      <th>0</th>\n",
       "      <td>55</td>\n",
       "      <td>N</td>\n",
       "      <td>(AFIB</td>\n",
       "    </tr>\n",
       "    <tr>\n",
       "      <th>1</th>\n",
       "      <td>144</td>\n",
       "      <td>N</td>\n",
       "      <td>(AFIB</td>\n",
       "    </tr>\n",
       "    <tr>\n",
       "      <th>2</th>\n",
       "      <td>238</td>\n",
       "      <td>N</td>\n",
       "      <td>(AFIB</td>\n",
       "    </tr>\n",
       "    <tr>\n",
       "      <th>3</th>\n",
       "      <td>314</td>\n",
       "      <td>N</td>\n",
       "      <td>(AFIB</td>\n",
       "    </tr>\n",
       "    <tr>\n",
       "      <th>4</th>\n",
       "      <td>412</td>\n",
       "      <td>N</td>\n",
       "      <td>(AFIB</td>\n",
       "    </tr>\n",
       "  </tbody>\n",
       "</table>\n",
       "</div>"
      ],
      "text/plain": [
       "   R peak Interval Beat Annotation Episode Annotation\n",
       "0               55               N              (AFIB\n",
       "1              144               N              (AFIB\n",
       "2              238               N              (AFIB\n",
       "3              314               N              (AFIB\n",
       "4              412               N              (AFIB"
      ]
     },
     "execution_count": 6,
     "metadata": {},
     "output_type": "execute_result"
    }
   ],
   "source": [
    "data.head()"
   ]
  },
  {
   "cell_type": "markdown",
   "metadata": {},
   "source": [
    "---\n",
    "# EDA"
   ]
  },
  {
   "cell_type": "markdown",
   "metadata": {},
   "source": [
    "## Explore the Beat Annotation Distribution"
   ]
  },
  {
   "cell_type": "code",
   "execution_count": 14,
   "metadata": {},
   "outputs": [
    {
     "data": {
      "image/png": "[encoded data removed]",
      "text/plain": [
       "<Figure size 640x480 with 1 Axes>"
      ]
     },
     "metadata": {},
     "output_type": "display_data"
    }
   ],
   "source": [
    "beat_counts = data.groupby('Beat Annotation').size()\n",
    "plt.bar(beat_counts.index, beat_counts, color='purple')\n",
    "plt.show()"
   ]
  },
  {
   "cell_type": "markdown",
   "metadata": {},
   "source": [
    "## Explore the Episode Annotation Distribution"
   ]
  },
  {
   "cell_type": "code",
   "execution_count": 16,
   "metadata": {},
   "outputs": [
    {
     "data": {
      "image/png": "[encoded data removed]",
      "text/plain": [
       "<Figure size 640x480 with 1 Axes>"
      ]
     },
     "metadata": {},
     "output_type": "display_data"
    }
   ],
   "source": [
    "episode_counts = data.groupby('Episode Annotation').size()\n",
    "plt.bar(episode_counts.index, episode_counts, color='purple')\n",
    "plt.show()"
   ]
  },
  {
   "cell_type": "markdown",
   "metadata": {},
   "source": [
    "---\n",
    "# Feature Engineering"
   ]
  },
  {
   "cell_type": "markdown",
   "metadata": {},
   "source": [
    "## Re-Labeling the data (Beat Annotation)\n",
    "\n",
    "Re-label the data into 3 beat types:\n",
    "- Normal Beat (N)\n",
    "- Ventricular Beat (V)\n",
    "- Other Beats (Other)"
   ]
  },
  {
   "cell_type": "code",
   "execution_count": 34,
   "metadata": {},
   "outputs": [],
   "source": [
    "data['Beat Annotation'] = data['Beat Annotation'].map(lambda x: x if x in ['N', 'V'] else 'Other')"
   ]
  },
  {
   "cell_type": "markdown",
   "metadata": {},
   "source": [
    "Check that the mapping worked:"
   ]
  },
  {
   "cell_type": "code",
   "execution_count": 37,
   "metadata": {},
   "outputs": [
    {
     "data": {
      "text/plain": [
       "Beat Annotation\n",
       "N        1625\n",
       "V         198\n",
       "Other     181\n",
       "Name: count, dtype: int64"
      ]
     },
     "execution_count": 37,
     "metadata": {},
     "output_type": "execute_result"
    }
   ],
   "source": [
    "data['Beat Annotation'].value_counts()"
   ]
  },
  {
   "cell_type": "markdown",
   "metadata": {},
   "source": [
    "## Re-Labeling the data (Episode Annotation)\n",
    "\n",
    "Re-label the data into 3 beat types:\n",
    "- Normal Episode: (N\n",
    "- Atrial Fibrillation: (AFIB\n",
    "- Other Episode: (Other"
   ]
  },
  {
   "cell_type": "code",
   "execution_count": 39,
   "metadata": {},
   "outputs": [],
   "source": [
    "data['Episode Annotation'] = data['Episode Annotation'].map(lambda x: x if x in ['(N', '(AFIB'] else 'Other')"
   ]
  },
  {
   "cell_type": "markdown",
   "metadata": {},
   "source": [
    "Check that the mapping worked:"
   ]
  },
  {
   "cell_type": "code",
   "execution_count": 42,
   "metadata": {},
   "outputs": [
    {
     "data": {
      "text/plain": [
       "Episode Annotation\n",
       "(AFIB    911\n",
       "(N       730\n",
       "Other    363\n",
       "Name: count, dtype: int64"
      ]
     },
     "execution_count": 42,
     "metadata": {},
     "output_type": "execute_result"
    }
   ],
   "source": [
    "data['Episode Annotation'].value_counts()"
   ]
  },
  {
   "cell_type": "markdown",
   "metadata": {},
   "source": [
    "## Create Lag Features (5 prev values) for R peak Interval measurement"
   ]
  },
  {
   "cell_type": "markdown",
   "metadata": {},
   "source": [
    "Apply a lag for the R peak Interval, creating a set of features representing the historical patient data. To maintain dataset integrity, eliminate any resulting missing values at the beginning of the dataset.\n",
    "\n",
    "Hint: Use `df['column_name'].shift(period)`. Check the documentation at https://pandas.pydata.org/docs/reference/api/pandas.DataFrame.shift.html."
   ]
  },
  {
   "cell_type": "code",
   "execution_count": 44,
   "metadata": {},
   "outputs": [],
   "source": [
    "for i in range(1,6):\n",
    "    data[f'R_lag{i}'] = data['R peak Interval'].shift(i)"
   ]
  },
  {
   "cell_type": "code",
   "execution_count": 48,
   "metadata": {},
   "outputs": [],
   "source": [
    "data.dropna(axis=0, inplace=True)"
   ]
  },
  {
   "cell_type": "markdown",
   "metadata": {},
   "source": [
    "Check that the mapping worked:"
   ]
  },
  {
   "cell_type": "code",
   "execution_count": 51,
   "metadata": {},
   "outputs": [
    {
     "data": {
      "text/html": [
       "<div>\n",
       "<style scoped>\n",
       "    .dataframe tbody tr th:only-of-type {\n",
       "        vertical-align: middle;\n",
       "    }\n",
       "\n",
       "    .dataframe tbody tr th {\n",
       "        vertical-align: top;\n",
       "    }\n",
       "\n",
       "    .dataframe thead th {\n",
       "        text-align: right;\n",
       "    }\n",
       "</style>\n",
       "<table border=\"1\" class=\"dataframe\">\n",
       "  <thead>\n",
       "    <tr style=\"text-align: right;\">\n",
       "      <th></th>\n",
       "      <th>R peak Interval</th>\n",
       "      <th>Beat Annotation</th>\n",
       "      <th>Episode Annotation</th>\n",
       "      <th>R_lag1</th>\n",
       "      <th>R_lag2</th>\n",
       "      <th>R_lag3</th>\n",
       "      <th>R_lag4</th>\n",
       "      <th>R_lag5</th>\n",
       "    </tr>\n",
       "  </thead>\n",
       "  <tbody>\n",
       "    <tr>\n",
       "      <th>5</th>\n",
       "      <td>493</td>\n",
       "      <td>N</td>\n",
       "      <td>(AFIB</td>\n",
       "      <td>412.0</td>\n",
       "      <td>314.0</td>\n",
       "      <td>238.0</td>\n",
       "      <td>144.0</td>\n",
       "      <td>55.0</td>\n",
       "    </tr>\n",
       "    <tr>\n",
       "      <th>6</th>\n",
       "      <td>562</td>\n",
       "      <td>N</td>\n",
       "      <td>(AFIB</td>\n",
       "      <td>493.0</td>\n",
       "      <td>412.0</td>\n",
       "      <td>314.0</td>\n",
       "      <td>238.0</td>\n",
       "      <td>144.0</td>\n",
       "    </tr>\n",
       "    <tr>\n",
       "      <th>7</th>\n",
       "      <td>682</td>\n",
       "      <td>N</td>\n",
       "      <td>(AFIB</td>\n",
       "      <td>562.0</td>\n",
       "      <td>493.0</td>\n",
       "      <td>412.0</td>\n",
       "      <td>314.0</td>\n",
       "      <td>238.0</td>\n",
       "    </tr>\n",
       "    <tr>\n",
       "      <th>8</th>\n",
       "      <td>776</td>\n",
       "      <td>N</td>\n",
       "      <td>(AFIB</td>\n",
       "      <td>682.0</td>\n",
       "      <td>562.0</td>\n",
       "      <td>493.0</td>\n",
       "      <td>412.0</td>\n",
       "      <td>314.0</td>\n",
       "    </tr>\n",
       "    <tr>\n",
       "      <th>9</th>\n",
       "      <td>866</td>\n",
       "      <td>N</td>\n",
       "      <td>(AFIB</td>\n",
       "      <td>776.0</td>\n",
       "      <td>682.0</td>\n",
       "      <td>562.0</td>\n",
       "      <td>493.0</td>\n",
       "      <td>412.0</td>\n",
       "    </tr>\n",
       "  </tbody>\n",
       "</table>\n",
       "</div>"
      ],
      "text/plain": [
       "   R peak Interval Beat Annotation Episode Annotation  R_lag1  R_lag2  R_lag3  \\\n",
       "5              493               N              (AFIB   412.0   314.0   238.0   \n",
       "6              562               N              (AFIB   493.0   412.0   314.0   \n",
       "7              682               N              (AFIB   562.0   493.0   412.0   \n",
       "8              776               N              (AFIB   682.0   562.0   493.0   \n",
       "9              866               N              (AFIB   776.0   682.0   562.0   \n",
       "\n",
       "   R_lag4  R_lag5  \n",
       "5   144.0    55.0  \n",
       "6   238.0   144.0  \n",
       "7   314.0   238.0  \n",
       "8   412.0   314.0  \n",
       "9   493.0   412.0  "
      ]
     },
     "execution_count": 51,
     "metadata": {},
     "output_type": "execute_result"
    }
   ],
   "source": [
    "data.head()"
   ]
  },
  {
   "cell_type": "markdown",
   "metadata": {},
   "source": [
    "## Generate R-R interval features\n"
   ]
  },
  {
   "cell_type": "markdown",
   "metadata": {},
   "source": [
    "For the past 5 R peak intervals ($R_{i}, i \\in \\{-1, -2, -3, -4, -5\\}$), generate the 4 R-R intervals as features.\n",
    "\n",
    "$RR_{i} = R_{i} - R_{i-1}$"
   ]
  },
  {
   "cell_type": "code",
   "execution_count": 55,
   "metadata": {},
   "outputs": [],
   "source": [
    "for i in range(1,5):\n",
    "    data[f'RR {i}'] = data[f'R_lag{i}'] - data[f'R_lag{i+1}']"
   ]
  },
  {
   "cell_type": "markdown",
   "metadata": {},
   "source": [
    "Additionally, generate the current R-R Interval, which we will be using as a target.  \n",
    "\n",
    "$RR_{curr} = (R_{0} - R_{-1})$"
   ]
  },
  {
   "cell_type": "code",
   "execution_count": 59,
   "metadata": {},
   "outputs": [],
   "source": [
    "data['RR'] = data['R peak Interval'] = data['R_lag1']"
   ]
  },
  {
   "cell_type": "markdown",
   "metadata": {},
   "source": [
    "Check that the mapping worked:"
   ]
  },
  {
   "cell_type": "code",
   "execution_count": 61,
   "metadata": {},
   "outputs": [
    {
     "data": {
      "text/html": [
       "<div>\n",
       "<style scoped>\n",
       "    .dataframe tbody tr th:only-of-type {\n",
       "        vertical-align: middle;\n",
       "    }\n",
       "\n",
       "    .dataframe tbody tr th {\n",
       "        vertical-align: top;\n",
       "    }\n",
       "\n",
       "    .dataframe thead th {\n",
       "        text-align: right;\n",
       "    }\n",
       "</style>\n",
       "<table border=\"1\" class=\"dataframe\">\n",
       "  <thead>\n",
       "    <tr style=\"text-align: right;\">\n",
       "      <th></th>\n",
       "      <th>R peak Interval</th>\n",
       "      <th>Beat Annotation</th>\n",
       "      <th>Episode Annotation</th>\n",
       "      <th>R_lag1</th>\n",
       "      <th>R_lag2</th>\n",
       "      <th>R_lag3</th>\n",
       "      <th>R_lag4</th>\n",
       "      <th>R_lag5</th>\n",
       "      <th>RR 1</th>\n",
       "      <th>RR 2</th>\n",
       "      <th>RR 3</th>\n",
       "      <th>RR 4</th>\n",
       "      <th>RR</th>\n",
       "    </tr>\n",
       "  </thead>\n",
       "  <tbody>\n",
       "    <tr>\n",
       "      <th>5</th>\n",
       "      <td>412.0</td>\n",
       "      <td>N</td>\n",
       "      <td>(AFIB</td>\n",
       "      <td>412.0</td>\n",
       "      <td>314.0</td>\n",
       "      <td>238.0</td>\n",
       "      <td>144.0</td>\n",
       "      <td>55.0</td>\n",
       "      <td>98.0</td>\n",
       "      <td>76.0</td>\n",
       "      <td>94.0</td>\n",
       "      <td>89.0</td>\n",
       "      <td>412.0</td>\n",
       "    </tr>\n",
       "    <tr>\n",
       "      <th>6</th>\n",
       "      <td>493.0</td>\n",
       "      <td>N</td>\n",
       "      <td>(AFIB</td>\n",
       "      <td>493.0</td>\n",
       "      <td>412.0</td>\n",
       "      <td>314.0</td>\n",
       "      <td>238.0</td>\n",
       "      <td>144.0</td>\n",
       "      <td>81.0</td>\n",
       "      <td>98.0</td>\n",
       "      <td>76.0</td>\n",
       "      <td>94.0</td>\n",
       "      <td>493.0</td>\n",
       "    </tr>\n",
       "    <tr>\n",
       "      <th>7</th>\n",
       "      <td>562.0</td>\n",
       "      <td>N</td>\n",
       "      <td>(AFIB</td>\n",
       "      <td>562.0</td>\n",
       "      <td>493.0</td>\n",
       "      <td>412.0</td>\n",
       "      <td>314.0</td>\n",
       "      <td>238.0</td>\n",
       "      <td>69.0</td>\n",
       "      <td>81.0</td>\n",
       "      <td>98.0</td>\n",
       "      <td>76.0</td>\n",
       "      <td>562.0</td>\n",
       "    </tr>\n",
       "    <tr>\n",
       "      <th>8</th>\n",
       "      <td>682.0</td>\n",
       "      <td>N</td>\n",
       "      <td>(AFIB</td>\n",
       "      <td>682.0</td>\n",
       "      <td>562.0</td>\n",
       "      <td>493.0</td>\n",
       "      <td>412.0</td>\n",
       "      <td>314.0</td>\n",
       "      <td>120.0</td>\n",
       "      <td>69.0</td>\n",
       "      <td>81.0</td>\n",
       "      <td>98.0</td>\n",
       "      <td>682.0</td>\n",
       "    </tr>\n",
       "    <tr>\n",
       "      <th>9</th>\n",
       "      <td>776.0</td>\n",
       "      <td>N</td>\n",
       "      <td>(AFIB</td>\n",
       "      <td>776.0</td>\n",
       "      <td>682.0</td>\n",
       "      <td>562.0</td>\n",
       "      <td>493.0</td>\n",
       "      <td>412.0</td>\n",
       "      <td>94.0</td>\n",
       "      <td>120.0</td>\n",
       "      <td>69.0</td>\n",
       "      <td>81.0</td>\n",
       "      <td>776.0</td>\n",
       "    </tr>\n",
       "  </tbody>\n",
       "</table>\n",
       "</div>"
      ],
      "text/plain": [
       "   R peak Interval Beat Annotation Episode Annotation  R_lag1  R_lag2  R_lag3  \\\n",
       "5            412.0               N              (AFIB   412.0   314.0   238.0   \n",
       "6            493.0               N              (AFIB   493.0   412.0   314.0   \n",
       "7            562.0               N              (AFIB   562.0   493.0   412.0   \n",
       "8            682.0               N              (AFIB   682.0   562.0   493.0   \n",
       "9            776.0               N              (AFIB   776.0   682.0   562.0   \n",
       "\n",
       "   R_lag4  R_lag5   RR 1   RR 2  RR 3  RR 4     RR  \n",
       "5   144.0    55.0   98.0   76.0  94.0  89.0  412.0  \n",
       "6   238.0   144.0   81.0   98.0  76.0  94.0  493.0  \n",
       "7   314.0   238.0   69.0   81.0  98.0  76.0  562.0  \n",
       "8   412.0   314.0  120.0   69.0  81.0  98.0  682.0  \n",
       "9   493.0   412.0   94.0  120.0  69.0  81.0  776.0  "
      ]
     },
     "execution_count": 61,
     "metadata": {},
     "output_type": "execute_result"
    }
   ],
   "source": [
    "data.head()"
   ]
  },
  {
   "cell_type": "markdown",
   "metadata": {},
   "source": [
    "## Encode the categorical variables"
   ]
  },
  {
   "cell_type": "code",
   "execution_count": 73,
   "metadata": {},
   "outputs": [],
   "source": [
    "def encode(data, columns):\n",
    "    enc = LabelEncoder()\n",
    "    for column in columns:\n",
    "        enc_values = enc.fit_transform(data[column])\n",
    "        data[column] = enc_values"
   ]
  },
  {
   "cell_type": "code",
   "execution_count": 75,
   "metadata": {},
   "outputs": [],
   "source": [
    "encode(data, ['Beat Annotation', 'Episode Annotation'])"
   ]
  },
  {
   "cell_type": "markdown",
   "metadata": {},
   "source": [
    "Check that the mapping worked:"
   ]
  },
  {
   "cell_type": "code",
   "execution_count": 77,
   "metadata": {},
   "outputs": [
    {
     "data": {
      "text/html": [
       "<div>\n",
       "<style scoped>\n",
       "    .dataframe tbody tr th:only-of-type {\n",
       "        vertical-align: middle;\n",
       "    }\n",
       "\n",
       "    .dataframe tbody tr th {\n",
       "        vertical-align: top;\n",
       "    }\n",
       "\n",
       "    .dataframe thead th {\n",
       "        text-align: right;\n",
       "    }\n",
       "</style>\n",
       "<table border=\"1\" class=\"dataframe\">\n",
       "  <thead>\n",
       "    <tr style=\"text-align: right;\">\n",
       "      <th></th>\n",
       "      <th>R peak Interval</th>\n",
       "      <th>Beat Annotation</th>\n",
       "      <th>Episode Annotation</th>\n",
       "      <th>R_lag1</th>\n",
       "      <th>R_lag2</th>\n",
       "      <th>R_lag3</th>\n",
       "      <th>R_lag4</th>\n",
       "      <th>R_lag5</th>\n",
       "      <th>RR 1</th>\n",
       "      <th>RR 2</th>\n",
       "      <th>RR 3</th>\n",
       "      <th>RR 4</th>\n",
       "      <th>RR</th>\n",
       "    </tr>\n",
       "  </thead>\n",
       "  <tbody>\n",
       "    <tr>\n",
       "      <th>5</th>\n",
       "      <td>412.0</td>\n",
       "      <td>0</td>\n",
       "      <td>0</td>\n",
       "      <td>412.0</td>\n",
       "      <td>314.0</td>\n",
       "      <td>238.0</td>\n",
       "      <td>144.0</td>\n",
       "      <td>55.0</td>\n",
       "      <td>98.0</td>\n",
       "      <td>76.0</td>\n",
       "      <td>94.0</td>\n",
       "      <td>89.0</td>\n",
       "      <td>412.0</td>\n",
       "    </tr>\n",
       "    <tr>\n",
       "      <th>6</th>\n",
       "      <td>493.0</td>\n",
       "      <td>0</td>\n",
       "      <td>0</td>\n",
       "      <td>493.0</td>\n",
       "      <td>412.0</td>\n",
       "      <td>314.0</td>\n",
       "      <td>238.0</td>\n",
       "      <td>144.0</td>\n",
       "      <td>81.0</td>\n",
       "      <td>98.0</td>\n",
       "      <td>76.0</td>\n",
       "      <td>94.0</td>\n",
       "      <td>493.0</td>\n",
       "    </tr>\n",
       "    <tr>\n",
       "      <th>7</th>\n",
       "      <td>562.0</td>\n",
       "      <td>0</td>\n",
       "      <td>0</td>\n",
       "      <td>562.0</td>\n",
       "      <td>493.0</td>\n",
       "      <td>412.0</td>\n",
       "      <td>314.0</td>\n",
       "      <td>238.0</td>\n",
       "      <td>69.0</td>\n",
       "      <td>81.0</td>\n",
       "      <td>98.0</td>\n",
       "      <td>76.0</td>\n",
       "      <td>562.0</td>\n",
       "    </tr>\n",
       "    <tr>\n",
       "      <th>8</th>\n",
       "      <td>682.0</td>\n",
       "      <td>0</td>\n",
       "      <td>0</td>\n",
       "      <td>682.0</td>\n",
       "      <td>562.0</td>\n",
       "      <td>493.0</td>\n",
       "      <td>412.0</td>\n",
       "      <td>314.0</td>\n",
       "      <td>120.0</td>\n",
       "      <td>69.0</td>\n",
       "      <td>81.0</td>\n",
       "      <td>98.0</td>\n",
       "      <td>682.0</td>\n",
       "    </tr>\n",
       "    <tr>\n",
       "      <th>9</th>\n",
       "      <td>776.0</td>\n",
       "      <td>0</td>\n",
       "      <td>0</td>\n",
       "      <td>776.0</td>\n",
       "      <td>682.0</td>\n",
       "      <td>562.0</td>\n",
       "      <td>493.0</td>\n",
       "      <td>412.0</td>\n",
       "      <td>94.0</td>\n",
       "      <td>120.0</td>\n",
       "      <td>69.0</td>\n",
       "      <td>81.0</td>\n",
       "      <td>776.0</td>\n",
       "    </tr>\n",
       "  </tbody>\n",
       "</table>\n",
       "</div>"
      ],
      "text/plain": [
       "   R peak Interval  Beat Annotation  Episode Annotation  R_lag1  R_lag2  \\\n",
       "5            412.0                0                   0   412.0   314.0   \n",
       "6            493.0                0                   0   493.0   412.0   \n",
       "7            562.0                0                   0   562.0   493.0   \n",
       "8            682.0                0                   0   682.0   562.0   \n",
       "9            776.0                0                   0   776.0   682.0   \n",
       "\n",
       "   R_lag3  R_lag4  R_lag5   RR 1   RR 2  RR 3  RR 4     RR  \n",
       "5   238.0   144.0    55.0   98.0   76.0  94.0  89.0  412.0  \n",
       "6   314.0   238.0   144.0   81.0   98.0  76.0  94.0  493.0  \n",
       "7   412.0   314.0   238.0   69.0   81.0  98.0  76.0  562.0  \n",
       "8   493.0   412.0   314.0  120.0   69.0  81.0  98.0  682.0  \n",
       "9   562.0   493.0   412.0   94.0  120.0  69.0  81.0  776.0  "
      ]
     },
     "execution_count": 77,
     "metadata": {},
     "output_type": "execute_result"
    }
   ],
   "source": [
    "data.head()"
   ]
  },
  {
   "cell_type": "markdown",
   "metadata": {},
   "source": [
    "---\n",
    "# Model Training"
   ]
  },
  {
   "cell_type": "markdown",
   "metadata": {},
   "source": [
    "## Remove unnecessary columns"
   ]
  },
  {
   "cell_type": "markdown",
   "metadata": {},
   "source": [
    "For the purposes of training we will only be using the following columns as features:\n",
    "- Beat Annotation\n",
    "- Episode Annotation\n",
    "- **All historical** 4 RR intervals\n",
    "\n",
    "Moreover, the target column we will be forcasting is the ```current RR``` interval."
   ]
  },
  {
   "cell_type": "code",
   "execution_count": 85,
   "metadata": {},
   "outputs": [],
   "source": [
    "data.drop(columns=[f'R_lag{i}' for i in range(1,6)], inplace=True)"
   ]
  },
  {
   "cell_type": "code",
   "execution_count": 89,
   "metadata": {},
   "outputs": [],
   "source": [
    "data.drop('R peak Interval', axis=1, inplace=True)"
   ]
  },
  {
   "cell_type": "code",
   "execution_count": 91,
   "metadata": {},
   "outputs": [
    {
     "data": {
      "text/html": [
       "<div>\n",
       "<style scoped>\n",
       "    .dataframe tbody tr th:only-of-type {\n",
       "        vertical-align: middle;\n",
       "    }\n",
       "\n",
       "    .dataframe tbody tr th {\n",
       "        vertical-align: top;\n",
       "    }\n",
       "\n",
       "    .dataframe thead th {\n",
       "        text-align: right;\n",
       "    }\n",
       "</style>\n",
       "<table border=\"1\" class=\"dataframe\">\n",
       "  <thead>\n",
       "    <tr style=\"text-align: right;\">\n",
       "      <th></th>\n",
       "      <th>Beat Annotation</th>\n",
       "      <th>Episode Annotation</th>\n",
       "      <th>RR 1</th>\n",
       "      <th>RR 2</th>\n",
       "      <th>RR 3</th>\n",
       "      <th>RR 4</th>\n",
       "      <th>RR</th>\n",
       "    </tr>\n",
       "  </thead>\n",
       "  <tbody>\n",
       "    <tr>\n",
       "      <th>5</th>\n",
       "      <td>0</td>\n",
       "      <td>0</td>\n",
       "      <td>98.0</td>\n",
       "      <td>76.0</td>\n",
       "      <td>94.0</td>\n",
       "      <td>89.0</td>\n",
       "      <td>412.0</td>\n",
       "    </tr>\n",
       "    <tr>\n",
       "      <th>6</th>\n",
       "      <td>0</td>\n",
       "      <td>0</td>\n",
       "      <td>81.0</td>\n",
       "      <td>98.0</td>\n",
       "      <td>76.0</td>\n",
       "      <td>94.0</td>\n",
       "      <td>493.0</td>\n",
       "    </tr>\n",
       "    <tr>\n",
       "      <th>7</th>\n",
       "      <td>0</td>\n",
       "      <td>0</td>\n",
       "      <td>69.0</td>\n",
       "      <td>81.0</td>\n",
       "      <td>98.0</td>\n",
       "      <td>76.0</td>\n",
       "      <td>562.0</td>\n",
       "    </tr>\n",
       "    <tr>\n",
       "      <th>8</th>\n",
       "      <td>0</td>\n",
       "      <td>0</td>\n",
       "      <td>120.0</td>\n",
       "      <td>69.0</td>\n",
       "      <td>81.0</td>\n",
       "      <td>98.0</td>\n",
       "      <td>682.0</td>\n",
       "    </tr>\n",
       "    <tr>\n",
       "      <th>9</th>\n",
       "      <td>0</td>\n",
       "      <td>0</td>\n",
       "      <td>94.0</td>\n",
       "      <td>120.0</td>\n",
       "      <td>69.0</td>\n",
       "      <td>81.0</td>\n",
       "      <td>776.0</td>\n",
       "    </tr>\n",
       "  </tbody>\n",
       "</table>\n",
       "</div>"
      ],
      "text/plain": [
       "   Beat Annotation  Episode Annotation   RR 1   RR 2  RR 3  RR 4     RR\n",
       "5                0                   0   98.0   76.0  94.0  89.0  412.0\n",
       "6                0                   0   81.0   98.0  76.0  94.0  493.0\n",
       "7                0                   0   69.0   81.0  98.0  76.0  562.0\n",
       "8                0                   0  120.0   69.0  81.0  98.0  682.0\n",
       "9                0                   0   94.0  120.0  69.0  81.0  776.0"
      ]
     },
     "execution_count": 91,
     "metadata": {},
     "output_type": "execute_result"
    }
   ],
   "source": [
    "data.head()"
   ]
  },
  {
   "cell_type": "markdown",
   "metadata": {},
   "source": [
    "## Dataset Splitting\n",
    "Partition the dataset into training and testing sets with an 80:20 ratio.\n",
    "\n",
    "**WARNING: DO NOT SHUFFLE THE DATASET.**"
   ]
  },
  {
   "cell_type": "code",
   "execution_count": 95,
   "metadata": {},
   "outputs": [],
   "source": [
    "from sklearn.model_selection import train_test_split\n",
    "\n",
    "X = data.drop('RR', axis=1)\n",
    "Y = data['RR']\n",
    "\n",
    "X_train, X_test, Y_train, Y_test = train_test_split(X, Y, test_size=0.2, shuffle=False)"
   ]
  },
  {
   "cell_type": "markdown",
   "metadata": {},
   "source": [
    "## Neural Network (RNN / CRNN)\n",
    "\n",
    "Create a deep (convolutional) recurrent neural network using:\n",
    "- Minimum of 1 Convolutional Layer **(+2 points Optional)** and\n",
    "- Minimum of 1 LSTM Layer"
   ]
  },
  {
   "cell_type": "markdown",
   "metadata": {},
   "source": [
    "**Reshape Data If Necessary**"
   ]
  },
  {
   "cell_type": "markdown",
   "metadata": {},
   "source": [
    "Compile and fit the model (Run only train 3 Epoch)."
   ]
  },
  {
   "cell_type": "markdown",
   "metadata": {},
   "source": [
    "---\n",
    "# Model Evaluation"
   ]
  },
  {
   "cell_type": "markdown",
   "metadata": {},
   "source": [
    "Use the trained model to make predictions for the test set."
   ]
  },
  {
   "cell_type": "markdown",
   "metadata": {},
   "source": [
    "Assess the performance of the model by using different metrics provided by the `scikit-learn` library."
   ]
  }
 ],
 "metadata": {
  "kernelspec": {
   "display_name": "Python 3 (ipykernel)",
   "language": "python",
   "name": "python3"
  },
  "language_info": {
   "codemirror_mode": {
    "name": "ipython",
    "version": 3
   },
   "file_extension": ".py",
   "mimetype": "text/x-python",
   "name": "python",
   "nbconvert_exporter": "python",
   "pygments_lexer": "ipython3",
   "version": "3.12.7"
  }
 },
 "nbformat": 4,
 "nbformat_minor": 4
}
